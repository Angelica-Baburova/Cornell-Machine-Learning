{
 "cells": [
  {
   "cell_type": "markdown",
   "metadata": {},
   "source": [
    "# Lab 8: Implement Your Machine Learning Project Plan"
   ]
  },
  {
   "cell_type": "markdown",
   "metadata": {},
   "source": [
    "In this lab assignment, you will implement the machine learning project plan you created in the written assignment. You will:\n",
    "\n",
    "1. Load your data set and save it to a Pandas DataFrame.\n",
    "2. Perform exploratory data analysis on your data to determine which feature engineering and data preparation techniques you will use.\n",
    "3. Prepare your data for your model and create features and a label.\n",
    "4. Fit your model to the training data and evaluate your model.\n",
    "5. Improve your model by performing model selection and/or feature selection techniques to find best model for your problem."
   ]
  },
  {
   "cell_type": "markdown",
   "metadata": {},
   "source": [
    "### Import Packages\n",
    "\n",
    "Before you get started, import a few packages."
   ]
  },
  {
   "cell_type": "code",
   "execution_count": 21,
   "metadata": {},
   "outputs": [],
   "source": [
    "import pandas as pd\n",
    "import numpy as np\n",
    "import os \n",
    "import matplotlib.pyplot as plt\n",
    "import seaborn as sns"
   ]
  },
  {
   "cell_type": "markdown",
   "metadata": {},
   "source": [
    "<b>Task:</b> In the code cell below, import additional packages that you have used in this course that you will need for this task."
   ]
  },
  {
   "cell_type": "code",
   "execution_count": 22,
   "metadata": {
    "scrolled": true
   },
   "outputs": [],
   "source": [
    "import sklearn\n",
    "from sklearn.model_selection import train_test_split\n",
    "from sklearn.metrics import classification_report\n",
    "from sklearn.ensemble import GradientBoostingClassifier\n",
    "from sklearn.model_selection import GridSearchCV"
   ]
  },
  {
   "cell_type": "markdown",
   "metadata": {},
   "source": [
    "## Part 1: Load the Data Set\n",
    "\n",
    "\n",
    "You have chosen to work with one of four data sets. The data sets are located in a folder named \"data.\" The file names of the three data sets are as follows:\n",
    "\n",
    "* The \"adult\" data set that contains Census information from 1994 is located in file `adultData.csv`\n",
    "* The airbnb NYC \"listings\" data set is located in file  `airbnbListingsData.csv`\n",
    "* The World Happiness Report (WHR) data set is located in file `WHR2018Chapter2OnlineData.csv`\n",
    "* The book review data set is located in file `bookReviewsData.csv`\n",
    "\n",
    "\n",
    "\n",
    "<b>Task:</b> In the code cell below, use the same method you have been using to load your data using `pd.read_csv()` and save it to DataFrame `df`."
   ]
  },
  {
   "cell_type": "code",
   "execution_count": 30,
   "metadata": {
    "scrolled": true
   },
   "outputs": [
    {
     "data": {
      "text/html": [
       "<div>\n",
       "<style scoped>\n",
       "    .dataframe tbody tr th:only-of-type {\n",
       "        vertical-align: middle;\n",
       "    }\n",
       "\n",
       "    .dataframe tbody tr th {\n",
       "        vertical-align: top;\n",
       "    }\n",
       "\n",
       "    .dataframe thead th {\n",
       "        text-align: right;\n",
       "    }\n",
       "</style>\n",
       "<table border=\"1\" class=\"dataframe\">\n",
       "  <thead>\n",
       "    <tr style=\"text-align: right;\">\n",
       "      <th></th>\n",
       "      <th>age</th>\n",
       "      <th>workclass</th>\n",
       "      <th>fnlwgt</th>\n",
       "      <th>education</th>\n",
       "      <th>education-num</th>\n",
       "      <th>marital-status</th>\n",
       "      <th>occupation</th>\n",
       "      <th>relationship</th>\n",
       "      <th>race</th>\n",
       "      <th>sex_selfID</th>\n",
       "      <th>capital-gain</th>\n",
       "      <th>capital-loss</th>\n",
       "      <th>hours-per-week</th>\n",
       "      <th>native-country</th>\n",
       "      <th>income_binary</th>\n",
       "    </tr>\n",
       "  </thead>\n",
       "  <tbody>\n",
       "    <tr>\n",
       "      <th>0</th>\n",
       "      <td>39.0</td>\n",
       "      <td>State-gov</td>\n",
       "      <td>77516</td>\n",
       "      <td>Bachelors</td>\n",
       "      <td>13</td>\n",
       "      <td>Never-married</td>\n",
       "      <td>Adm-clerical</td>\n",
       "      <td>Not-in-family</td>\n",
       "      <td>White</td>\n",
       "      <td>Non-Female</td>\n",
       "      <td>2174</td>\n",
       "      <td>0</td>\n",
       "      <td>40.0</td>\n",
       "      <td>United-States</td>\n",
       "      <td>&lt;=50K</td>\n",
       "    </tr>\n",
       "    <tr>\n",
       "      <th>1</th>\n",
       "      <td>50.0</td>\n",
       "      <td>Self-emp-not-inc</td>\n",
       "      <td>83311</td>\n",
       "      <td>Bachelors</td>\n",
       "      <td>13</td>\n",
       "      <td>Married-civ-spouse</td>\n",
       "      <td>Exec-managerial</td>\n",
       "      <td>Husband</td>\n",
       "      <td>White</td>\n",
       "      <td>Non-Female</td>\n",
       "      <td>0</td>\n",
       "      <td>0</td>\n",
       "      <td>13.0</td>\n",
       "      <td>United-States</td>\n",
       "      <td>&lt;=50K</td>\n",
       "    </tr>\n",
       "    <tr>\n",
       "      <th>2</th>\n",
       "      <td>38.0</td>\n",
       "      <td>Private</td>\n",
       "      <td>215646</td>\n",
       "      <td>HS-grad</td>\n",
       "      <td>9</td>\n",
       "      <td>Divorced</td>\n",
       "      <td>Handlers-cleaners</td>\n",
       "      <td>Not-in-family</td>\n",
       "      <td>White</td>\n",
       "      <td>Non-Female</td>\n",
       "      <td>0</td>\n",
       "      <td>0</td>\n",
       "      <td>40.0</td>\n",
       "      <td>United-States</td>\n",
       "      <td>&lt;=50K</td>\n",
       "    </tr>\n",
       "    <tr>\n",
       "      <th>3</th>\n",
       "      <td>53.0</td>\n",
       "      <td>Private</td>\n",
       "      <td>234721</td>\n",
       "      <td>11th</td>\n",
       "      <td>7</td>\n",
       "      <td>Married-civ-spouse</td>\n",
       "      <td>Handlers-cleaners</td>\n",
       "      <td>Husband</td>\n",
       "      <td>Black</td>\n",
       "      <td>Non-Female</td>\n",
       "      <td>0</td>\n",
       "      <td>0</td>\n",
       "      <td>40.0</td>\n",
       "      <td>United-States</td>\n",
       "      <td>&lt;=50K</td>\n",
       "    </tr>\n",
       "    <tr>\n",
       "      <th>4</th>\n",
       "      <td>28.0</td>\n",
       "      <td>Private</td>\n",
       "      <td>338409</td>\n",
       "      <td>Bachelors</td>\n",
       "      <td>13</td>\n",
       "      <td>Married-civ-spouse</td>\n",
       "      <td>Prof-specialty</td>\n",
       "      <td>Wife</td>\n",
       "      <td>Black</td>\n",
       "      <td>Female</td>\n",
       "      <td>0</td>\n",
       "      <td>0</td>\n",
       "      <td>40.0</td>\n",
       "      <td>Cuba</td>\n",
       "      <td>&lt;=50K</td>\n",
       "    </tr>\n",
       "  </tbody>\n",
       "</table>\n",
       "</div>"
      ],
      "text/plain": [
       "    age         workclass  fnlwgt  education  education-num  \\\n",
       "0  39.0         State-gov   77516  Bachelors             13   \n",
       "1  50.0  Self-emp-not-inc   83311  Bachelors             13   \n",
       "2  38.0           Private  215646    HS-grad              9   \n",
       "3  53.0           Private  234721       11th              7   \n",
       "4  28.0           Private  338409  Bachelors             13   \n",
       "\n",
       "       marital-status         occupation   relationship   race  sex_selfID  \\\n",
       "0       Never-married       Adm-clerical  Not-in-family  White  Non-Female   \n",
       "1  Married-civ-spouse    Exec-managerial        Husband  White  Non-Female   \n",
       "2            Divorced  Handlers-cleaners  Not-in-family  White  Non-Female   \n",
       "3  Married-civ-spouse  Handlers-cleaners        Husband  Black  Non-Female   \n",
       "4  Married-civ-spouse     Prof-specialty           Wife  Black      Female   \n",
       "\n",
       "   capital-gain  capital-loss  hours-per-week native-country income_binary  \n",
       "0          2174             0            40.0  United-States         <=50K  \n",
       "1             0             0            13.0  United-States         <=50K  \n",
       "2             0             0            40.0  United-States         <=50K  \n",
       "3             0             0            40.0  United-States         <=50K  \n",
       "4             0             0            40.0           Cuba         <=50K  "
      ]
     },
     "execution_count": 30,
     "metadata": {},
     "output_type": "execute_result"
    }
   ],
   "source": [
    "adultDataSet_filename=os.path.join(os.getcwd(),\"data\",\"adultData.csv\")\n",
    "\n",
    "df=pd.read_csv(adultDataSet_filename)\n",
    "df.head()"
   ]
  },
  {
   "cell_type": "markdown",
   "metadata": {},
   "source": [
    "## Part 2: Exploratory Data Analysis\n",
    "\n",
    "The next step is to inspect and analyze your data set with your machine learning problem and project plan in mind. \n",
    "\n",
    "This step will help you determine data preparation and feature engineering techniques you will need to apply to your data to build a balanced modeling data set for your problem and model. These data preparation techniques may include:\n",
    "* addressing missingness, such as replacing missing values with means\n",
    "* renaming features and labels\n",
    "* finding and replacing outliers\n",
    "* performing winsorization if needed\n",
    "* performing one-hot encoding on categorical features\n",
    "* performing vectorization for an NLP problem\n",
    "* addressing class imbalance in your data sample to promote fair AI\n",
    "\n",
    "\n",
    "Think of the different techniques you have used to inspect and analyze your data in this course. These include using Pandas to apply data filters, using the Pandas `describe()` method to get insight into key statistics for each column, using the Pandas `dtypes` property to inspect the data type of each column, and using Matplotlib and Seaborn to detect outliers and visualize relationships between features and labels. If you are working on a classification problem, use techniques you have learned to determine if there is class imbalance.\n",
    "\n",
    "\n",
    "<b>Task</b>: Use the techniques you have learned in this course to inspect and analyze your data. \n",
    "\n",
    "<b>Note</b>: You can add code cells if needed by going to the <b>Insert</b> menu and clicking on <b>Insert Cell Below</b> in the drop-drown menu."
   ]
  },
  {
   "cell_type": "code",
   "execution_count": 31,
   "metadata": {
    "scrolled": true
   },
   "outputs": [],
   "source": [
    "#Replacing missing values with mean\n",
    "df.fillna(df.mean(),inplace=True)\n",
    "df.replace([np.inf,-np.inf],np.finfo(np.float32).max,inplace=True)\n",
    "X=df.drop('income_binary',axis=1)\n",
    "y=df['income_binary']\n",
    "\n",
    "#Fixing Feature names\n",
    "new_column_names={\n",
    "    'age':'Age',\n",
    "    'workclass':'Work Class',\n",
    "    'fnlwgt':'Final Weight',\n",
    "    'education':'Education',\n",
    "    'education-num':'Education Num',\n",
    "    'marital-status':'Marital Status',\n",
    "    'occupation':'Occupation',\n",
    "    'relationship':'Relationship',\n",
    "    'race':'Race',\n",
    "    'sex_selfID':'Sex',\n",
    "    'capital-gain':'Capital Gain',\n",
    "    'capital-loss':'Capital Loss',\n",
    "    'hours-per-week':'Hours per Week',\n",
    "    'native-country':'Native Country',\n",
    "    'income_binary':'Income Binary',\n",
    "    'Work Class_Self-emp-not-inc':'Work Class; Self-Employed (Not Inc.)',\n",
    "    'Occupation_Prof-specialty':'Occupation: Professional/Specialty',\n",
    "    'Occupation_Exec-managerial':'Occupation: Executive/Managerial',\n",
    "    'Marital Status_Married-civ-spouse':'Marital Status: Spouse'\n",
    "\n",
    "}\n",
    "\n",
    "X.rename(columns=new_column_names,inplace=True)"
   ]
  },
  {
   "cell_type": "code",
   "execution_count": 32,
   "metadata": {},
   "outputs": [
    {
     "name": "stdout",
     "output_type": "stream",
     "text": [
      "              precision    recall  f1-score   support\n",
      "\n",
      "       <=50K       0.91      0.92      0.92      4942\n",
      "        >50K       0.74      0.71      0.72      1571\n",
      "\n",
      "    accuracy                           0.87      6513\n",
      "   macro avg       0.83      0.81      0.82      6513\n",
      "weighted avg       0.87      0.87      0.87      6513\n",
      "\n"
     ]
    }
   ],
   "source": [
    "X_encoded=pd.get_dummies(X)\n",
    "#Splitting the data \n",
    "X_train,X_test,y_train,y_test=train_test_split(X_encoded, y,test_size=0.2,random_state=42)\n",
    "\n",
    "# Separate majority and minority classes\n",
    "majority_class=X_train[y_train =='<=50K']\n",
    "minority_class=X_train[y_train=='>50K']\n",
    "\n",
    "# Making sure there are enough datapoints to undersample\n",
    "if len(minority_class)>len(majority_class):\n",
    "    raise ValueError(\"Not enough samples in the minority class for undersampling.\")\n",
    "\n",
    "#Undersampling\n",
    "num_samples_to_remove=len(majority_class)-len(minority_class)\n",
    "\n",
    "undersampled_majority_indices=np.random.choice(majority_class.index,size=num_samples_to_remove,replace=False)\n",
    "undersampled_majority=majority_class.loc[undersampled_majority_indices]\n",
    "undersampled_train_data=pd.concat([undersampled_majority, minority_class])\n",
    "undersampled_train_data=undersampled_train_data.sample(frac=1,random_state=42)\n",
    "\n",
    "#Split the undersampled data back into X_train and y_train\n",
    "X_train_undersampled=undersampled_train_data\n",
    "y_train_undersampled=y_train[X_train_undersampled.index]\n",
    "\n",
    "#Implementing GradientBoostingClassifier \n",
    "gb_classifier=GradientBoostingClassifier()\n",
    "gb_classifier.fit(X_train_undersampled,y_train_undersampled)\n",
    "\n",
    "#Predicting\n",
    "y_pred=gb_classifier.predict(X_test)\n",
    "\n",
    "print(classification_report(y_test,y_pred))"
   ]
  },
  {
   "cell_type": "code",
   "execution_count": 33,
   "metadata": {
    "scrolled": true
   },
   "outputs": [
    {
     "name": "stdout",
     "output_type": "stream",
     "text": [
      "Empty DataFrame\n",
      "Columns: [feature1, feature2]\n",
      "Index: []\n"
     ]
    }
   ],
   "source": [
    "#Checking for outliers\n",
    "data={\n",
    "    'feature1':[10,20,30,40,50,200],\n",
    "    'feature2':[5,10,15,20,25,100]\n",
    "}\n",
    "df=pd.DataFrame(data)\n",
    "\n",
    "z_threshold=3\n",
    "z_scores=np.abs((df-df.mean())/df.std())\n",
    "\n",
    "outliers=(z_scores>z_threshold).any(axis=1)\n",
    "\n",
    "print(df[outliers])"
   ]
  },
  {
   "cell_type": "markdown",
   "metadata": {},
   "source": [
    "## Part 3: Implement Your Project Plan\n",
    "\n",
    "<b>Task:</b> Use the rest of this notebook to carry out your project plan. You will:\n",
    "\n",
    "1. Prepare your data for your model and create features and a label.\n",
    "2. Fit your model to the training data and evaluate your model.\n",
    "3. Improve your model by performing model selection and/or feature selection techniques to find best model for your problem.\n",
    "\n",
    "\n",
    "Add code cells below and populate the notebook with commentary, code, analyses, results, and figures as you see fit."
   ]
  },
  {
   "cell_type": "code",
   "execution_count": 34,
   "metadata": {},
   "outputs": [
    {
     "name": "stdout",
     "output_type": "stream",
     "text": [
      "              precision    recall  f1-score   support\n",
      "\n",
      "       <=50K       0.91      0.92      0.92      4942\n",
      "        >50K       0.74      0.71      0.72      1571\n",
      "\n",
      "    accuracy                           0.87      6513\n",
      "   macro avg       0.83      0.81      0.82      6513\n",
      "weighted avg       0.87      0.87      0.87      6513\n",
      "\n"
     ]
    }
   ],
   "source": [
    "#Hyperparamenter tuning to increase performance\n",
    "param_grid={\n",
    "    'n_estimators':[50,100,150],\n",
    "    'learning_rate':[0.01,0.1,0.2],\n",
    "    'max_depth': [3,4,5]\n",
    "}\n",
    "#Fitting the model on the undersampled training data\n",
    "gb_classifier.fit(X_train_undersampled,y_train_undersampled)\n",
    "\n",
    "#Making predictions\n",
    "y_pred=gb_classifier.predict(X_test)\n",
    "\n",
    "#Evaluating the model's performance\n",
    "print(classification_report(y_test,y_pred,target_names=['<=50K','>50K']))\n"
   ]
  },
  {
   "cell_type": "code",
   "execution_count": 35,
   "metadata": {},
   "outputs": [
    {
     "name": "stdout",
     "output_type": "stream",
     "text": [
      "Best Hyperparameters: {'learning_rate': 0.1, 'max_depth': 5, 'n_estimators': 150}\n",
      "Best Model Performance:\n",
      "              precision    recall  f1-score   support\n",
      "\n",
      "       <=50K       0.90      0.94      0.92      4942\n",
      "        >50K       0.79      0.68      0.73      1571\n",
      "\n",
      "    accuracy                           0.88      6513\n",
      "   macro avg       0.85      0.81      0.83      6513\n",
      "weighted avg       0.88      0.88      0.88      6513\n",
      "\n"
     ]
    }
   ],
   "source": [
    "#Creating a GridSearchCV instance\n",
    "grid_search=GridSearchCV(estimator=gb_classifier,param_grid=param_grid,cv=3)\n",
    "\n",
    "#Fitting the grid search on the training data\n",
    "grid_search.fit(X_train,y_train)\n",
    "\n",
    "#Finding the best hyperparameters\n",
    "best_params=grid_search.best_params_\n",
    "print(\"Best Hyperparameters:\",best_params)\n",
    "\n",
    "#Repeating earlier process with the best hyperparameters\n",
    "best_gb_classifier=GradientBoostingClassifier(**best_params)\n",
    "best_gb_classifier.fit(X_train,y_train)\n",
    "\n",
    "y_pred_best=best_gb_classifier.predict(X_test)\n",
    "\n",
    "print(\"Best Model Performance:\")\n",
    "print(classification_report(y_test,y_pred_best))\n"
   ]
  },
  {
   "cell_type": "code",
   "execution_count": 36,
   "metadata": {},
   "outputs": [
    {
     "data": {
      "image/png": "[encoded data removed]",
      "text/plain": [
       "<Figure size 432x288 with 1 Axes>"
      ]
     },
     "metadata": {
      "needs_background": "light"
     },
     "output_type": "display_data"
    }
   ],
   "source": [
    "#Feature selection\n",
    "feature_importances=best_gb_classifier.feature_importances_\n",
    "\n",
    "feature_importance_df=pd.DataFrame({'Feature':X_train.columns,'Importance':feature_importances})\n",
    "\n",
    "feature_importance_df=feature_importance_df.sort_values(by='Importance',ascending=False)\n",
    "\n",
    "#Plot\n",
    "top_ten_features=feature_importance_df.head(10)\n",
    "plt.figure\n",
    "plt.barh(top_ten_features['Feature'],top_ten_features['Importance'])\n",
    "plt.xlabel('Feature Importance')\n",
    "plt.ylabel('Feature')\n",
    "plt.title('Feature Importances')\n",
    "plt.show()"
   ]
  },
  {
   "cell_type": "code",
   "execution_count": null,
   "metadata": {},
   "outputs": [],
   "source": [
    "#This graph shows that the most important features for figuring out whether soemone is making above the limit of $50,000 is whether or not they are married. There is a large gap between this featere and the next two, which are how much education they got and capital gain. This is interesting because literally speaking an increase in capitol gain is an increase in assets, however, capital loss (its counterpart) is also on this list. I believe this to be because many people who are well off use passive income. Many invest in and purchase stocks, which allows for both capital gain and loss."
   ]
  }
 ],
 "metadata": {
  "kernelspec": {
   "display_name": "Python 3",
   "language": "python",
   "name": "python3"
  },
  "language_info": {
   "codemirror_mode": {
    "name": "ipython",
    "version": 3
   },
   "file_extension": ".py",
   "mimetype": "text/x-python",
   "name": "python",
   "nbconvert_exporter": "python",
   "pygments_lexer": "ipython3",
   "version": "3.6.9"
  },
  "toc": {
   "base_numbering": 1,
   "nav_menu": {},
   "number_sections": false,
   "sideBar": true,
   "skip_h1_title": false,
   "title_cell": "Table of Contents",
   "title_sidebar": "Contents",
   "toc_cell": false,
   "toc_position": {},
   "toc_section_display": true,
   "toc_window_display": false
  },
  "varInspector": {
   "cols": {
    "lenName": 16,
    "lenType": 16,
    "lenVar": 40
   },
   "kernels_config": {
    "python": {
     "delete_cmd_postfix": "",
     "delete_cmd_prefix": "del ",
     "library": "var_list.py",
     "varRefreshCmd": "print(var_dic_list())"
    },
    "r": {
     "delete_cmd_postfix": ") ",
     "delete_cmd_prefix": "rm(",
     "library": "var_list.r",
     "varRefreshCmd": "cat(var_dic_list()) "
    }
   },
   "types_to_exclude": [
    "module",
    "function",
    "builtin_function_or_method",
    "instance",
    "_Feature"
   ],
   "window_display": false
  }
 },
 "nbformat": 4,
 "nbformat_minor": 2
}
